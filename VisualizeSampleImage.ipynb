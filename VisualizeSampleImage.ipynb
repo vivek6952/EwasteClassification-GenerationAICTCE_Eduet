{
  "metadata": {
    "kernelspec": {
      "name": "python",
      "display_name": "Python (Pyodide)",
      "language": "python"
    },
    "language_info": {
      "codemirror_mode": {
        "name": "python",
        "version": 3
      },
      "file_extension": ".py",
      "mimetype": "text/x-python",
      "name": "python",
      "nbconvert_exporter": "python",
      "pygments_lexer": "ipython3",
      "version": "3.8"
    }
  },
  "nbformat_minor": 5,
  "nbformat": 4,
  "cells": [
    {
      "id": "26888c94-e789-4443-8700-2d0644950591",
      "cell_type": "code",
      "source": "# Set the size of the entire figure (width=10, height=10 inches)\nplt.figure(figsize=(10, 10))\n\n# Take one batch from the dataset and iterate over the images and labels\nfor images, labels in datatrain.take(1):\n    # Display the first 12 images from the batch\n    for i in range(12):\n        # Create a 4x3 grid of subplots and select the (i+1)th position\n        ax = plt.subplot(4, 3, i + 1)\n\n        # Display the image; convert the tensor to a NumPy array and ensure correct type\n        plt.imshow(images[i].numpy().astype(\"uint8\"))\n\n        # Set the title of the subplot to the class name of the image\n        plt.title(class_names[labels[i]])\n\n        # Remove axis ticks and labels for clarity\n        plt.axis(\"off\")",
      "metadata": {
        "trusted": true
      },
      "outputs": [
        {
          "ename": "<class 'NameError'>",
          "evalue": "name 'plt' is not defined",
          "traceback": [
            "\u001b[0;31m---------------------------------------------------------------------------\u001b[0m",
            "\u001b[0;31mNameError\u001b[0m                                 Traceback (most recent call last)",
            "Cell \u001b[0;32mIn[1], line 2\u001b[0m\n\u001b[1;32m      1\u001b[0m \u001b[38;5;66;03m# Set the size of the entire figure (width=10, height=10 inches)\u001b[39;00m\n\u001b[0;32m----> 2\u001b[0m \u001b[43mplt\u001b[49m\u001b[38;5;241m.\u001b[39mfigure(figsize\u001b[38;5;241m=\u001b[39m(\u001b[38;5;241m10\u001b[39m, \u001b[38;5;241m10\u001b[39m))\n\u001b[1;32m      4\u001b[0m \u001b[38;5;66;03m# Take one batch from the dataset and iterate over the images and labels\u001b[39;00m\n\u001b[1;32m      5\u001b[0m \u001b[38;5;28;01mfor\u001b[39;00m images, labels \u001b[38;5;129;01min\u001b[39;00m datatrain\u001b[38;5;241m.\u001b[39mtake(\u001b[38;5;241m1\u001b[39m):\n\u001b[1;32m      6\u001b[0m     \u001b[38;5;66;03m# Display the first 12 images from the batch\u001b[39;00m\n",
            "\u001b[0;31mNameError\u001b[0m: name 'plt' is not defined"
          ],
          "output_type": "error"
        }
      ],
      "execution_count": 1
    },
    {
      "id": "cfed67aa-dcda-4e93-83ce-9793450af83b",
      "cell_type": "code",
      "source": "",
      "metadata": {
        "trusted": true
      },
      "outputs": [],
      "execution_count": null
    }
  ]
}